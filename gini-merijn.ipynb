{
 "cells": [
  {
   "cell_type": "code",
   "execution_count": 11,
   "metadata": {},
   "outputs": [
    {
     "name": "stdout",
     "output_type": "stream",
     "text": [
      "year\n",
      "0      0.604055\n",
      "1      0.607001\n",
      "2      0.634642\n",
      "3      0.613444\n",
      "4      0.625739\n",
      "         ...   \n",
      "106    0.611446\n",
      "107    0.610273\n",
      "108    0.611529\n",
      "109    0.607905\n",
      "110    0.607910\n",
      "Name: income, Length: 111, dtype: float64\n"
     ]
    }
   ],
   "source": [
    "import numpy as np\n",
    "\n",
    "def gini_coefficient(income):\n",
    "    # Sort the income array\n",
    "    sorted_income = np.sort(income)\n",
    "    n = len(income)\n",
    "    # Calculate the cumulative income\n",
    "    cumulative_income = np.cumsum(sorted_income)\n",
    "    # Calculate the Gini coefficient\n",
    "    gini = (2 * np.sum((np.arange(1, n + 1) * sorted_income)) - (n + 1) * cumulative_income[-1]) / (n * cumulative_income[-1])\n",
    "    return gini\n",
    "\n",
    "df = pd.read_csv('data-wealth-110.csv')\n",
    "\n",
    "# Calculate the Gini coefficient for each year\n",
    "gini_per_year = df.groupby('year')['income'].apply(gini_coefficient)\n",
    "print(gini_per_year)\n",
    "gini_per_year.to_csv('gini-all.csv', header=True)"
   ]
  },
  {
   "cell_type": "code",
   "execution_count": 10,
   "metadata": {},
   "outputs": [],
   "source": [
    "gini_per_year.to_csv('gini-all.csv', header=True)"
   ]
  }
 ],
 "metadata": {
  "kernelspec": {
   "display_name": "base",
   "language": "python",
   "name": "python3"
  },
  "language_info": {
   "codemirror_mode": {
    "name": "ipython",
    "version": 3
   },
   "file_extension": ".py",
   "mimetype": "text/x-python",
   "name": "python",
   "nbconvert_exporter": "python",
   "pygments_lexer": "ipython3",
   "version": "3.12.7"
  }
 },
 "nbformat": 4,
 "nbformat_minor": 2
}
