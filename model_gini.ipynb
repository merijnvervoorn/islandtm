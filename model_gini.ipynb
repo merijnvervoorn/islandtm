{
 "cells": [
  {
   "cell_type": "code",
   "execution_count": null,
   "id": "0b8603b5-581c-402d-bb15-9cd37afe6be4",
   "metadata": {},
   "outputs": [],
   "source": [
    "import pandas as pd\n",
    "import numpy as np\n",
    "from statsmodels.tsa.arima.model import ARIMA\n",
    "import matplotlib.pyplot as plt\n",
    "from sklearn.metrics import mean_absolute_error, mean_squared_error\n",
    "\n",
    "# Load dataset\n",
    "df = pd.read_csv(\"merged_data.csv\")  # Replace with your actual file path\n",
    "\n",
    "# Extract relevant data\n",
    "df_gini = df[[\"year\", \"income\"]]  # Assuming \"income\" represents the Gini coefficient\n",
    "\n",
    "# Split data into training and testing sets\n",
    "train_size = int(len(df_gini) * 0.8)  # Use 80% for training\n",
    "train, test = df_gini[:train_size], df_gini[train_size:]\n",
    "\n",
    "# Train an improved ARIMA model with higher order terms to better capture fluctuations\n",
    "arima_model = ARIMA(train[\"income\"], order=(3,1,3))  # Adjust order to capture variance better\n",
    "arima_result = arima_model.fit()\n",
    "\n",
    "# Predict on test data\n",
    "test_predictions = arima_result.forecast(steps=len(test))\n",
    "\n",
    "# Evaluate the model\n",
    "mae = mean_absolute_error(test[\"income\"], test_predictions)\n",
    "mse = mean_squared_error(test[\"income\"], test_predictions)\n",
    "rmse = np.sqrt(mse)\n",
    "print(f\"Model Evaluation:\\nMAE: {mae:.4f}\\nMSE: {mse:.4f}\\nRMSE: {rmse:.4f}\")\n",
    "\n",
    "# Predict future Gini coefficient for years 111 to 115\n",
    "future_years = list(range(111, 116))\n",
    "future_predictions = arima_result.forecast(steps=5)\n",
    "\n",
    "# Introduce synthetic noise to simulate volatility in the predictions\n",
    "volatility_factor = df_gini[\"income\"].diff().std()  # Estimate volatility from past fluctuations\n",
    "np.random.seed(42)  # For reproducibility\n",
    "adjusted_predictions = future_predictions + np.random.normal(scale=volatility_factor, size=5)\n",
    "\n",
    "# Store predictions in a DataFrame\n",
    "predictions_df = pd.DataFrame({\"year\": future_years, \"predicted_gini\": adjusted_predictions})\n",
    "\n",
    "# Save predictions to CSV\n",
    "predictions_df.to_csv(\"predicted_gini_111_115.csv\", index=False)\n",
    "print(\"Predictions saved to predicted_gini_111_115.csv\")\n",
    "\n",
    "# Plot results\n",
    "plt.figure(figsize=(10,5))\n",
    "plt.plot(df_gini[\"year\"], df_gini[\"income\"], label=\"Actual Gini Coefficient\")\n",
    "plt.plot(test[\"year\"], test_predictions, label=\"Test Predictions\", linestyle=\"dashed\")\n",
    "plt.plot(future_years, adjusted_predictions, label=\"Predicted Gini Coefficient\", linestyle=\"dotted\")\n",
    "plt.xlabel(\"Year\")\n",
    "plt.ylabel(\"Gini Coefficient\")\n",
    "plt.legend()\n",
    "plt.title(\"Improved Gini Coefficient Predictions and Model Evaluation\")\n",
    "plt.show()"
   ]
  }
 ],
 "metadata": {
  "kernelspec": {
   "display_name": "Python 3 (ipykernel)",
   "language": "python",
   "name": "python3"
  },
  "language_info": {
   "codemirror_mode": {
    "name": "ipython",
    "version": 3
   },
   "file_extension": ".py",
   "mimetype": "text/x-python",
   "name": "python",
   "nbconvert_exporter": "python",
   "pygments_lexer": "ipython3",
   "version": "3.11.4"
  }
 },
 "nbformat": 4,
 "nbformat_minor": 5
}
